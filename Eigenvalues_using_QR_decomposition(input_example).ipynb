{
  "nbformat": 4,
  "nbformat_minor": 0,
  "metadata": {
    "colab": {
      "provenance": [],
      "authorship_tag": "ABX9TyPURH2jdvL02ZfEdCeenDcb",
      "include_colab_link": true
    },
    "kernelspec": {
      "name": "python3",
      "display_name": "Python 3"
    },
    "language_info": {
      "name": "python"
    }
  },
  "cells": [
    {
      "cell_type": "markdown",
      "metadata": {
        "id": "view-in-github",
        "colab_type": "text"
      },
      "source": [
        "<a href=\"https://colab.research.google.com/github/FatemehSafarii/Eigenvalue-QR-Iteration/blob/main/Eigenvalues_using_QR_decomposition(input_example).ipynb\" target=\"_parent\"><img src=\"https://colab.research.google.com/assets/colab-badge.svg\" alt=\"Open In Colab\"/></a>"
      ]
    },
    {
      "cell_type": "code",
      "source": [
        "#Eigenvalues using QR decomposition(input example)\n",
        "import numpy as np\n",
        "\n",
        "def qr_decomposition(A, threshold=1e-10):\n",
        "    m, n = A.shape\n",
        "    Q = np.eye(m)\n",
        "    R = A.astype(float).copy()\n",
        "\n",
        "    for j in range(n):\n",
        "        x = R[j:, j]\n",
        "        e = np.zeros_like(x)\n",
        "        e[0] = np.sign(x[0] or 1)\n",
        "\n",
        "        u = x + np.linalg.norm(x) * e\n",
        "        u /= np.linalg.norm(u)\n",
        "\n",
        "        R[j:, :] -= 2.0 * np.outer(u, u @ R[j:, :])\n",
        "\n",
        "        # Set very small values in R to zero\n",
        "        R[np.abs(R) < threshold] = 0.0\n",
        "\n",
        "        Q[:, j:] -= 2.0 * Q[:, j:] @ np.outer(u, u)\n",
        "\n",
        "    # Set very small values in Q to zero\n",
        "    Q[np.abs(Q) < threshold] = 0.0\n",
        "\n",
        "    return Q, R\n",
        "\n",
        "\n",
        "def qr_iteration_eigenvalues(A, num_iterations=100):\n",
        "    m, n = A.shape\n",
        "    eigenvalues = []\n",
        "\n",
        "    for _ in range(num_iterations):\n",
        "        Q, R = qr_decomposition(A)\n",
        "        A = R @ Q\n",
        "\n",
        "    for i in range(m):\n",
        "        eigenvalues.append(A[i][i])\n",
        "\n",
        "    return eigenvalues\n",
        "\n",
        "# Example usage with user input\n",
        "m = int(input(\"Enter the number of rows: \"))\n",
        "n = int(input(\"Enter the number of columns: \"))\n",
        "\n",
        "A = np.zeros((m, n))\n",
        "for i in range(m):\n",
        "    row = input(f\"Enter space-separated values for row {i+1}: \").split()\n",
        "    A[i, :] = [float(val) for val in row]\n",
        "\n",
        "Q, R = qr_decomposition(A)\n",
        "eigenvalues = qr_iteration_eigenvalues(A)\n",
        "\n",
        "\n",
        "print(\"Q:\")\n",
        "print(Q)\n",
        "print(\"R:\")\n",
        "print(R)\n",
        "print(\"Eigenvalues:\")\n",
        "print(eigenvalues)"
      ],
      "metadata": {
        "id": "suBAze6abNK6",
        "colab": {
          "base_uri": "https://localhost:8080/"
        },
        "outputId": "1e587b70-7ea3-4f2b-eea8-901fe54f79cd"
      },
      "execution_count": null,
      "outputs": [
        {
          "output_type": "stream",
          "name": "stdout",
          "text": [
            "Enter the number of rows: 2\n",
            "Enter the number of columns: 2\n",
            "Enter space-separated values for row 1: 2 3\n",
            "Enter space-separated values for row 2: 4 10\n",
            "Eigenvalues:\n",
            "[11.291502622165304, 0.7084973778685524]\n",
            "Q:\n",
            "[[-0.4472136   0.89442719]\n",
            " [-0.89442719 -0.4472136 ]]\n",
            "R:\n",
            "[[ -4.47213595 -10.2859127 ]\n",
            " [  0.          -1.78885438]]\n",
            "Eigenvalues:\n",
            "[11.291502622165304, 0.7084973778685524]\n"
          ]
        }
      ]
    }
  ]
}